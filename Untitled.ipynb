{
 "cells": [
  {
   "cell_type": "code",
   "execution_count": 2,
   "metadata": {},
   "outputs": [],
   "source": [
    "import pandas as pd\n",
    "in_file = 'dataset/driver_imgs_list.csv/driver_imgs_list.csv'\n",
    "full_data = pd.read_csv(in_file)"
   ]
  },
  {
   "cell_type": "code",
   "execution_count": 3,
   "metadata": {},
   "outputs": [
    {
     "data": {
      "text/html": [
       "<div>\n",
       "<style scoped>\n",
       "    .dataframe tbody tr th:only-of-type {\n",
       "        vertical-align: middle;\n",
       "    }\n",
       "\n",
       "    .dataframe tbody tr th {\n",
       "        vertical-align: top;\n",
       "    }\n",
       "\n",
       "    .dataframe thead th {\n",
       "        text-align: right;\n",
       "    }\n",
       "</style>\n",
       "<table border=\"1\" class=\"dataframe\">\n",
       "  <thead>\n",
       "    <tr style=\"text-align: right;\">\n",
       "      <th></th>\n",
       "      <th>subject</th>\n",
       "      <th>classname</th>\n",
       "      <th>img</th>\n",
       "    </tr>\n",
       "  </thead>\n",
       "  <tbody>\n",
       "    <tr>\n",
       "      <th>0</th>\n",
       "      <td>p002</td>\n",
       "      <td>c0</td>\n",
       "      <td>img_44733.jpg</td>\n",
       "    </tr>\n",
       "    <tr>\n",
       "      <th>1</th>\n",
       "      <td>p002</td>\n",
       "      <td>c0</td>\n",
       "      <td>img_72999.jpg</td>\n",
       "    </tr>\n",
       "    <tr>\n",
       "      <th>2</th>\n",
       "      <td>p002</td>\n",
       "      <td>c0</td>\n",
       "      <td>img_25094.jpg</td>\n",
       "    </tr>\n",
       "    <tr>\n",
       "      <th>3</th>\n",
       "      <td>p002</td>\n",
       "      <td>c0</td>\n",
       "      <td>img_69092.jpg</td>\n",
       "    </tr>\n",
       "    <tr>\n",
       "      <th>4</th>\n",
       "      <td>p002</td>\n",
       "      <td>c0</td>\n",
       "      <td>img_92629.jpg</td>\n",
       "    </tr>\n",
       "  </tbody>\n",
       "</table>\n",
       "</div>"
      ],
      "text/plain": [
       "  subject classname            img\n",
       "0    p002        c0  img_44733.jpg\n",
       "1    p002        c0  img_72999.jpg\n",
       "2    p002        c0  img_25094.jpg\n",
       "3    p002        c0  img_69092.jpg\n",
       "4    p002        c0  img_92629.jpg"
      ]
     },
     "execution_count": 3,
     "metadata": {},
     "output_type": "execute_result"
    }
   ],
   "source": [
    "full_data.head()"
   ]
  },
  {
   "cell_type": "code",
   "execution_count": 6,
   "metadata": {},
   "outputs": [],
   "source": [
    "import numpy as np\n",
    "def get_change_index_points(full_dataframe, key):\n",
    "    return np.array(full_dataframe.drop_duplicates([key]).index)"
   ]
  },
  {
   "cell_type": "code",
   "execution_count": 7,
   "metadata": {},
   "outputs": [],
   "source": [
    "points = get_change_index_points(full_data, 'subject')"
   ]
  },
  {
   "cell_type": "code",
   "execution_count": 8,
   "metadata": {},
   "outputs": [
    {
     "name": "stdout",
     "output_type": "stream",
     "text": [
      "26\n"
     ]
    }
   ],
   "source": [
    "print(len(points))"
   ]
  },
  {
   "cell_type": "code",
   "execution_count": 10,
   "metadata": {},
   "outputs": [
    {
     "name": "stdout",
     "output_type": "stream",
     "text": [
      "[    0   725  1548  2424  3299  4377  5614  6847  8073  9269 10117 10768\n",
      " 11373 11964 12688 13523 14534 15324 16244 16984 17778 18587 19407 20441\n",
      " 20787 21601]\n"
     ]
    }
   ],
   "source": [
    "print(points)"
   ]
  },
  {
   "cell_type": "code",
   "execution_count": 21,
   "metadata": {},
   "outputs": [
    {
     "name": "stdout",
     "output_type": "stream",
     "text": [
      "p002\n"
     ]
    }
   ],
   "source": [
    "print(full_data['subject'][0])"
   ]
  },
  {
   "cell_type": "code",
   "execution_count": 25,
   "metadata": {},
   "outputs": [
    {
     "name": "stdout",
     "output_type": "stream",
     "text": [
      "第1个司机编号为p002,有725张图，约占总数的0.032331\n",
      "第2个司机编号为p012,有823张图，约占总数的0.036702\n",
      "第3个司机编号为p014,有876张图，约占总数的0.039065\n",
      "第4个司机编号为p015,有875张图，约占总数的0.039021\n",
      "第5个司机编号为p016,有1078张图，约占总数的0.048073\n",
      "第6个司机编号为p021,有1237张图，约占总数的0.055164\n",
      "第7个司机编号为p022,有1233张图，约占总数的0.054986\n",
      "第8个司机编号为p024,有1226张图，约占总数的0.054674\n",
      "第9个司机编号为p026,有1196张图，约占总数的0.053336\n",
      "第10个司机编号为p035,有848张图，约占总数的0.037817\n",
      "第11个司机编号为p039,有651张图，约占总数的0.029031\n",
      "第12个司机编号为p041,有605张图，约占总数的0.026980\n",
      "第13个司机编号为p042,有591张图，约占总数的0.026356\n",
      "第14个司机编号为p045,有724张图，约占总数的0.032287\n",
      "第15个司机编号为p047,有835张图，约占总数的0.037237\n",
      "第16个司机编号为p049,有1011张图，约占总数的0.045086\n",
      "第17个司机编号为p050,有790张图，约占总数的0.035230\n",
      "第18个司机编号为p051,有920张图，约占总数的0.041027\n",
      "第19个司机编号为p052,有740张图，约占总数的0.033000\n",
      "第20个司机编号为p056,有794张图，约占总数的0.035408\n",
      "第21个司机编号为p061,有809张图，约占总数的0.036077\n",
      "第22个司机编号为p064,有820张图，约占总数的0.036568\n",
      "第23个司机编号为p066,有1034张图，约占总数的0.046111\n",
      "第24个司机编号为p072,有346张图，约占总数的0.015430\n",
      "第25个司机编号为p075,有814张图，约占总数的0.036300\n",
      "第26个司机编号为p081,有823张图，约占总数的0.036702\n"
     ]
    }
   ],
   "source": [
    "for i in range(0, 25):\n",
    "    print(\"第%d个司机编号为%s,有%d张图，约占总数的%f\"%(i+1, full_data['subject'][points[i]], points[i+1] - points[i], (points[i+1] - points[i]) / 22424))\n",
    "print(\"第26个司机编号为%s,有%d张图，约占总数的%f\"%(full_data['subject'][points[25]],(22424 - 21601),(22424-21601) / 22424))"
   ]
  },
  {
   "cell_type": "code",
   "execution_count": 14,
   "metadata": {},
   "outputs": [
    {
     "name": "stdout",
     "output_type": "stream",
     "text": [
      "823\n",
      "0.03670174812700678\n"
     ]
    }
   ],
   "source": [
    "print(22424 - 21601)\n",
    "print(823 / 22424)"
   ]
  },
  {
   "cell_type": "code",
   "execution_count": null,
   "metadata": {},
   "outputs": [],
   "source": []
  }
 ],
 "metadata": {
  "kernelspec": {
   "display_name": "Python 3",
   "language": "python",
   "name": "python3"
  },
  "language_info": {
   "codemirror_mode": {
    "name": "ipython",
    "version": 3
   },
   "file_extension": ".py",
   "mimetype": "text/x-python",
   "name": "python",
   "nbconvert_exporter": "python",
   "pygments_lexer": "ipython3",
   "version": "3.5.4"
  }
 },
 "nbformat": 4,
 "nbformat_minor": 2
}
